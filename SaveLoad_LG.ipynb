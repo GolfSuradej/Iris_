{
 "cells": [
  {
   "cell_type": "markdown",
   "metadata": {},
   "source": [
    "Author: Suradej D.,\n",
    "Date: Sep 12, 2023,\n",
    "Dataset: SuanPhueng, 195 subjects"
   ]
  },
  {
   "cell_type": "code",
   "execution_count": 2,
   "metadata": {},
   "outputs": [],
   "source": [
    "import numpy as np\n",
    "import cv2\n",
    "import os"
   ]
  },
  {
   "cell_type": "code",
   "execution_count": 4,
   "metadata": {},
   "outputs": [],
   "source": [
    "#Enroll Iris Log-Gabor Images\n",
    "path = \"C:/Users/golf_/SynologyDrive/Iris_images/sample-irises/\"\n",
    "dir_list = sorted(os.listdir(path))  \n",
    "\n",
    "cid_enroll = np.empty(len(dir_list), dtype=object)\n",
    "LG_L_enroll = np.empty(len(dir_list), dtype=object)\n",
    "LG_R_enroll = np.empty(len(dir_list), dtype=object)\n",
    "\n",
    "fname = np.empty(len(dir_list), dtype=object)\n",
    "\n",
    "\n",
    "    \n",
    "for i in range(len(dir_list)):\n",
    "    cid_enroll[i] = dir_list[i]\n",
    "    \n",
    "    fname[i] = path + dir_list[i] + \"/EYE_L_lg.png\" \n",
    "    LG_L_enroll[i] = cv2.imread(fname[i], cv2.IMREAD_GRAYSCALE)\n",
    "    \n",
    "    fname[i] = path + dir_list[i] + \"/EYE_R_lg.png\" \n",
    "    LG_R_enroll[i] = cv2.imread(fname[i], cv2.IMREAD_GRAYSCALE)\n",
    "        \n",
    "\n",
    "np.save('LG_L_enroll.npy',LG_L_enroll)    \n",
    "np.save('LG_R_enroll.npy',LG_R_enroll)\n",
    "np.save('cid_enroll.npy',cid_enroll)"
   ]
  },
  {
   "cell_type": "code",
   "execution_count": 5,
   "metadata": {},
   "outputs": [],
   "source": [
    "#Test Iris Log-Gabor Images\n",
    "path = \"C:/Users/golf_/SynologyDrive/Iris_images/testing-irises/\"\n",
    "dir_list = sorted(os.listdir(path))\n",
    "\n",
    "cid_test = np.empty(len(dir_list), dtype=object)\n",
    "LG_L_test = np.empty(len(dir_list), dtype=object)\n",
    "LG_R_test = np.empty(len(dir_list), dtype=object)\n",
    "\n",
    "fname = np.empty(len(dir_list), dtype=object)\n",
    "\n",
    "\n",
    "for i in range(len(dir_list)):\n",
    "    cid_test[i] = dir_list[i]\n",
    "    \n",
    "    fname[i] = path + dir_list[i] + \"/EYE_L_lg.png\" \n",
    "    LG_L_test[i] = cv2.imread(fname[i], cv2.IMREAD_GRAYSCALE)\n",
    "    \n",
    "    fname[i] = path + dir_list[i] + \"/EYE_R_lg.png\" \n",
    "    LG_R_test[i] = cv2.imread(fname[i], cv2.IMREAD_GRAYSCALE)\n",
    "    \n",
    "np.save('LG_L_test.npy',LG_L_test)    \n",
    "np.save('LG_R_test.npy',LG_R_test)\n",
    "np.save('cid_test.npy',cid_test)    "
   ]
  },
  {
   "cell_type": "code",
   "execution_count": 6,
   "metadata": {},
   "outputs": [],
   "source": [
    "featureA = np.load('LG_L_enroll.npy',allow_pickle=True)\n",
    "featureB = np.load('LG_L_test.npy',allow_pickle=True)\n"
   ]
  },
  {
   "cell_type": "code",
   "execution_count": 9,
   "metadata": {},
   "outputs": [
    {
     "name": "stdout",
     "output_type": "stream",
     "text": [
      "0.43359375\n"
     ]
    }
   ],
   "source": [
    "# Simplest Hamming Distance\n",
    "C = np.logical_xor(featureA[0], featureB[1])\n",
    "HD = np.sum(C == 1)/featureA[0].size\n",
    "print(HD)"
   ]
  },
  {
   "cell_type": "markdown",
   "metadata": {},
   "source": []
  }
 ],
 "metadata": {
  "kernelspec": {
   "display_name": "iris",
   "language": "python",
   "name": "python3"
  },
  "language_info": {
   "codemirror_mode": {
    "name": "ipython",
    "version": 3
   },
   "file_extension": ".py",
   "mimetype": "text/x-python",
   "name": "python",
   "nbconvert_exporter": "python",
   "pygments_lexer": "ipython3",
   "version": "3.10.10"
  },
  "orig_nbformat": 4
 },
 "nbformat": 4,
 "nbformat_minor": 2
}
